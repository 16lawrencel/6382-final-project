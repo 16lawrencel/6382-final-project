{
 "cells": [
  {
   "cell_type": "code",
   "execution_count": null,
   "metadata": {},
   "outputs": [],
   "source": [
    "# set up package roots\n",
    "\n",
    "import matplotlib.pyplot as plt\n",
    "\n",
    "%env DRAKE_RESOURCE_ROOT = '/drake/share'\n",
    "\n",
    "import sys\n",
    "sys.path.append('/Users/lawrenceli/Documents/mit/6832/project/underactuated/src')\n",
    "sys.path.append('/Users/lawrenceli/Documents/mit/6832/project/drake-env/lib/python2.7/site-packages/')"
   ]
  },
  {
   "cell_type": "markdown",
   "metadata": {},
   "source": [
    "Let's first try the controller's trajectory optimization method for the passive compass gait in steady state, as a sanity check."
   ]
  },
  {
   "cell_type": "code",
   "execution_count": null,
   "metadata": {},
   "outputs": [],
   "source": [
    "%load_ext autoreload\n",
    "%autoreload 2\n",
    "\n",
    "from compass_gait_sim import ComputeTrajectory\n",
    "import numpy as np\n",
    "\n",
    "# steady state conditions\n",
    "\n",
    "passive = True\n",
    "equal_time_steps = True\n",
    "\n",
    "if passive:\n",
    "    # passive compass gait\n",
    "    slope = None # default slope\n",
    "    state_initial = np.array([-0.219, 0.324, 1.093, 0.376])\n",
    "    state_final = np.array([0.324, -0.219, 1.496, 1.81])\n",
    "else:\n",
    "    # actuated compass gait on flat ground\n",
    "    slope = 0\n",
    "    state_initial = np.array([0.2884, -0.2884, -1.1235, -0.2830])\n",
    "    state_final = np.array([-0.2884, 0.2884, -1.6009, -1.9762])\n",
    "\n",
    "min_time = 1\n",
    "max_time = 5\n",
    "    \n",
    "states, u, time_array = ComputeTrajectory(state_initial, state_final, min_time, max_time, \n",
    "                                          DMOC=True, \n",
    "                                          slope=slope, \n",
    "                                          equal_time_steps = equal_time_steps)\n",
    "\n",
    "import matplotlib.pyplot as plt\n",
    "plt.plot(u)\n",
    "plt.savefig('figs/u_equal_time_steps=%r' % equal_time_steps)\n",
    "plt.show()\n",
    "\n",
    "plt.plot(np.diff(time_array))\n",
    "plt.savefig('figs/time_array_equal_time_steps=%r' % equal_time_steps)\n",
    "plt.show()"
   ]
  },
  {
   "cell_type": "code",
   "execution_count": null,
   "metadata": {},
   "outputs": [],
   "source": [
    "%load_ext autoreload\n",
    "%autoreload 2\n",
    "\n",
    "from compass_gait_sim import Simulate2dCompassGait\n",
    "minimal_state_freq = 1./100\n",
    "viz, state_log, minimal_state_log = Simulate2dCompassGait(10, passive = True, passive_controller = True, \n",
    "                                                         minimal_state_freq = minimal_state_freq)"
   ]
  },
  {
   "cell_type": "code",
   "execution_count": null,
   "metadata": {},
   "outputs": [],
   "source": [
    "%load_ext autoreload\n",
    "%autoreload 2\n",
    "\n",
    "from compass_gait_sim import ComputeTrajectory\n",
    "import numpy as np\n",
    "\n",
    "states = minimal_state_log.data().T\n",
    "resets = []\n",
    "for i in range(len(states)-1):\n",
    "    if states[i,0] * states[i+1,0] < 0 and abs(states[i,0]) > 0.01: # found a reset state\n",
    "        resets.append(i)\n",
    "ss_states = states[resets[-2]+1:resets[-1]]\n",
    "u_traj = np.zeros(len(ss_states))\n",
    "time_step = minimal_state_freq\n",
    "time_array = np.arange(len(ss_states)+1) * time_step\n",
    "test_traj = (ss_states[:,:2], u_traj, time_array)\n",
    "\n",
    "state_initial = ss_states[0]\n",
    "state_final = ss_states[-1]\n",
    "min_time = 1\n",
    "max_time = 10\n",
    "\n",
    "if True:\n",
    "    plt.plot(ss_states[:-1,2], color='orange')\n",
    "    plt.scatter(np.arange(len(ss_states)-1), np.diff(ss_states[:,0]) / time_step, s=10)\n",
    "    plt.savefig('figs/discrete_differences_freq=%d' % int(1./minimal_state_freq))\n",
    "    plt.show()\n",
    "    #for i in range(len(ss_states)-1):\n",
    "    #    print ss_states[i,2], (ss_states[i+1,0]-ss_states[i,0])/time_step\n",
    "\n",
    "ComputeTrajectory(state_initial, state_final, min_time, max_time, test_traj, DMOC=True)\n"
   ]
  },
  {
   "cell_type": "code",
   "execution_count": null,
   "metadata": {},
   "outputs": [],
   "source": [
    "import matplotlib.pyplot as plt\n",
    "ani = viz.animate(state_log, 10, repeat=True)\n",
    "plt.close(viz.fig)\n",
    "HTML(ani.to_html5_video())"
   ]
  },
  {
   "cell_type": "code",
   "execution_count": null,
   "metadata": {},
   "outputs": [],
   "source": []
  }
 ],
 "metadata": {
  "kernelspec": {
   "display_name": "drake-env",
   "language": "python",
   "name": "drake-env"
  },
  "language_info": {
   "codemirror_mode": {
    "name": "ipython",
    "version": 2
   },
   "file_extension": ".py",
   "mimetype": "text/x-python",
   "name": "python",
   "nbconvert_exporter": "python",
   "pygments_lexer": "ipython2",
   "version": "2.7.16"
  }
 },
 "nbformat": 4,
 "nbformat_minor": 2
}
